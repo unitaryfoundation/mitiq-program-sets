{
  "cells": [
    {
      "cell_type": "markdown",
      "id": "ddf3c722",
      "metadata": {},
      "source": [
        "# Program Sets + Mitiq Demo\n",
        "\n",
        "This notebook demonstrates how to pair Amazon Braket Program Sets with Mitiq zero-noise extrapolation (ZNE).\n",
        "The goal is to batch together scaled circuits, evaluate them in a single request, and post-process the results.\n"
      ]
    },
    {
      "cell_type": "markdown",
      "id": "66691d9c",
      "metadata": {},
      "source": [
        "## Prerequisites\n",
        "\n",
        "Install dependencies with `uv sync`.\n"
      ]
    },
    {
      "cell_type": "markdown",
      "id": "4666c555",
      "metadata": {},
      "source": [
        "## Workflow Outline\n",
        "\n",
        "Mitiq supports two main user workflows:\n",
        "\n",
        "1. A more (mitiq-)coordinated workflow using the `mitiq.xyz.execute_with_xyz` function, which requires a user to define a python function to handle the execution of circuits, and\n",
        "2. an inspectable workflow where upons specifying the QEM configuration, the circuits are returned and it is expected that the user runs the circuits themselves, and pass the results to a separate mitiq function.\n",
        "\n",
        "Workflow #1 does not currently work with Program Sets due to \"executor\" functions needing to have signature looking like `Circuit -> bitstrings | float` or `list[Circuit] -> list[bitstrings] | list[float]`.\n",
        "\n",
        "For workflow #2, the workflow with Program Sets is the following sequence:\n",
        "\n",
        "1. Build a reference two-qubit circuit.\n",
        "2. Generate QEM circuits with Mitiq (in this case Zero-Noise Extrapolation).\n",
        "3. Package the circuits and observables into a `ProgramSet`.\n",
        "4. Run the batch on the local Braket simulator and combine results.\n"
      ]
    },
    {
      "cell_type": "code",
      "execution_count": 2,
      "id": "c2bb70ca",
      "metadata": {},
      "outputs": [],
      "source": [
        "from math import pi\n",
        "from braket.circuits import Circuit\n",
        "from braket.program_sets import ProgramSet\n",
        "from braket.circuits.observables import I, Z\n",
        "import mitiq"
      ]
    },
    {
      "cell_type": "code",
      "execution_count": 8,
      "id": "9b66dbe4",
      "metadata": {},
      "outputs": [],
      "source": [
        "# TODO: use a more meaningful circuit and observables\n",
        "circuit = Circuit().rx(0, pi / 4).ry(1, pi / 8).cnot(1, 0)\n",
        "observables = [Z(0) @ Z(1), I(0) @ Z(1)]\n",
        "\n",
        "\n",
        "scale_factors = [1, 3, 5]\n",
        "qem_circuits = mitiq.zne.construct_circuits(circuit, scale_factors=scale_factors)"
      ]
    },
    {
      "cell_type": "code",
      "execution_count": 9,
      "id": "a5c63b3c",
      "metadata": {},
      "outputs": [],
      "source": [
        "program_set = ProgramSet.product(\n",
        "    circuits=qem_circuits,\n",
        "    observables=observables,\n",
        ")  # what other properties of ProgramSet should we showcase?"
      ]
    },
    {
      "cell_type": "code",
      "execution_count": 28,
      "id": "3b89a531",
      "metadata": {},
      "outputs": [],
      "source": [
        "from braket.devices import LocalSimulator\n",
        "\n",
        "device = LocalSimulator()  # replace with a noisy device\n",
        "result = device.run(\n",
        "    program_set, shots=6 * 100\n",
        ").result()  # shots must be divisible by 6 (3 scale factors * 2 observables)"
      ]
    },
    {
      "cell_type": "code",
      "execution_count": null,
      "id": "7cdc7783",
      "metadata": {},
      "outputs": [
        {
          "name": "stdout",
          "output_type": "stream",
          "text": [
            "ZZ observable scaled expecation values:  [0.68, 0.66, 0.76]\n",
            "0.6400000000000001\n"
          ]
        }
      ],
      "source": [
        "ZZ_expvals = [result[i][0].expectation for i in range(3)]\n",
        "print(\"ZZ observable scaled expecation values: \", ZZ_expvals)\n",
        "print(\n",
        "    mitiq.zne.combine_results(\n",
        "        scale_factors,\n",
        "        ZZ_expvals,\n",
        "        extrapolation_method=mitiq.zne.inference.LinearFactory.extrapolate,\n",
        "    )\n",
        ")\n"
      ]
    },
    {
      "cell_type": "markdown",
      "id": "6677743d",
      "metadata": {},
      "source": [
        "## Next Steps\n",
        "\n",
        "- Swap `LocalSimulator` in `run_program_set` for another Braket device once your AWS credentials are configured.\n",
        "- Experiment with alternative extrapolation factories from Mitiq (for example, `RichardsonFactory`).\n",
        "- Add more observables to the `ProgramSet.product` call for richer measurement batches.\n"
      ]
    }
  ],
  "metadata": {
    "kernelspec": {
      "display_name": "program-sets-demo (3.12.0)",
      "language": "python",
      "name": "python3"
    },
    "language_info": {
      "codemirror_mode": {
        "name": "ipython",
        "version": 3
      },
      "file_extension": ".py",
      "mimetype": "text/x-python",
      "name": "python",
      "nbconvert_exporter": "python",
      "pygments_lexer": "ipython3",
      "version": "3.12.0"
    }
  },
  "nbformat": 4,
  "nbformat_minor": 5
}
