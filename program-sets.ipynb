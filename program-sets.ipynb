{
  "cells": [
    {
      "cell_type": "markdown",
      "id": "ddf3c722",
      "metadata": {},
      "source": [
        "# Program Sets + Mitiq Demo\n",
        "\n",
        "This notebook demonstrates how to pair Amazon Braket Program Sets with Mitiq zero-noise extrapolation (ZNE). The goal is to batch together scaled circuits, evaluate their observables in a single request, and post-process the results to reduce noise.\n"
      ]
    },
    {
      "cell_type": "markdown",
      "id": "66691d9c",
      "metadata": {},
      "source": [
        "## Prerequisites\n",
        "\n",
        "Install dependencies with `pip install -r requirements.txt` or `poetry install`.\n",
        "\n",
        "Once the environment is ready, run `python examples/run_program_set_demo.py` for the script version or execute the cells below.\n"
      ]
    },
    {
      "cell_type": "markdown",
      "id": "4666c555",
      "metadata": {},
      "source": [
        "## Workflow Outline\n",
        "\n",
        "1. Build a reference two-qubit circuit.\n",
        "2. Generate scaled copies with Mitiq for zero-noise extrapolation.\n",
        "3. Package the circuits and observables into a `ProgramSet`.\n",
        "4. Run the batch on the local Braket simulator and combine results.\n"
      ]
    },
    {
      "cell_type": "code",
      "execution_count": 1,
      "id": "c2bb70ca",
      "metadata": {},
      "outputs": [],
      "source": [
        "from math import pi\n",
        "from braket.circuits import Circuit\n",
        "from braket.program_sets import ProgramSet\n",
        "from braket.circuits.observables import I, X, Y, Z\n",
        "import mitiq"
      ]
    },
    {
      "cell_type": "code",
      "execution_count": 2,
      "id": "9b66dbe4",
      "metadata": {},
      "outputs": [],
      "source": [
        "circuit = Circuit().rx(0, pi / 4).ry(1, pi / 8).cnot(1, 0)\n",
        "qem_circuits = mitiq.zne.construct_circuits(circuit, scale_factors=[1, 3, 5])\n",
        "\n",
        "observable = Z(0) @ Z(1)"
      ]
    },
    {
      "cell_type": "code",
      "execution_count": 3,
      "id": "a5c63b3c",
      "metadata": {},
      "outputs": [],
      "source": [
        "program_set = ProgramSet.product(\n",
        "    circuits=qem_circuits,\n",
        "    observables=[observable, I(0) @ I(1)],\n",
        ")"
      ]
    },
    {
      "cell_type": "code",
      "execution_count": 4,
      "id": "3b89a531",
      "metadata": {},
      "outputs": [],
      "source": [
        "from braket.devices import LocalSimulator\n",
        "\n",
        "device = LocalSimulator()\n",
        "result_1 = device.run(program_set, shots=6).result()"
      ]
    },
    {
      "cell_type": "code",
      "execution_count": 5,
      "id": "7cdc7783",
      "metadata": {},
      "outputs": [
        {
          "data": {
            "text/plain": [
              "[1.0, -1.0, 1.0]"
            ]
          },
          "execution_count": 5,
          "metadata": {},
          "output_type": "execute_result"
        }
      ],
      "source": [
        "mitiq.zne.combine_results(\n",
        "    [1, 3, 5],\n",
        "    [result_1[i][0].expectation for i in range(3)],\n",
        "    extrapolation_method=mitiq.zne.inference.LinearFactory.extrapolate,\n",
        ")\n",
        "[result_1[i][0].expectation for i in range(3)]\n"
      ]
    },
    {
      "cell_type": "markdown",
      "id": "6677743d",
      "metadata": {},
      "source": [
        "## Next Steps\n",
        "\n",
        "- Swap `LocalSimulator` in `run_program_set` for another Braket device once your AWS credentials are configured.\n",
        "- Experiment with alternative extrapolation factories from Mitiq (for example, `RichardsonFactory`).\n",
        "- Add more observables to the `ProgramSet.product` call for richer measurement batches.\n"
      ]
    }
  ],
  "metadata": {
    "kernelspec": {
      "display_name": "program-sets-demo (3.10.18)",
      "language": "python",
      "name": "python3"
    },
    "language_info": {
      "codemirror_mode": {
        "name": "ipython",
        "version": 3
      },
      "file_extension": ".py",
      "mimetype": "text/x-python",
      "name": "python",
      "nbconvert_exporter": "python",
      "pygments_lexer": "ipython3",
      "version": "3.10.18"
    }
  },
  "nbformat": 4,
  "nbformat_minor": 5
}
